{
 "cells": [
  {
   "attachments": {},
   "cell_type": "markdown",
   "metadata": {},
   "source": [
    "<h1> New York Rangers Stats"
   ]
  },
  {
   "attachments": {},
   "cell_type": "markdown",
   "metadata": {},
   "source": [
    "<h2> Import Modules"
   ]
  },
  {
   "cell_type": "code",
   "execution_count": 9,
   "metadata": {},
   "outputs": [],
   "source": [
    "import pandas as pd\n",
    "import requests as re\n",
    "import json"
   ]
  },
  {
   "attachments": {},
   "cell_type": "markdown",
   "metadata": {},
   "source": [
    "<h2> Pull in NHL API for NYR"
   ]
  },
  {
   "cell_type": "code",
   "execution_count": 13,
   "metadata": {},
   "outputs": [
    {
     "name": "stderr",
     "output_type": "stream",
     "text": [
      "c:\\Users\\logic\\AppData\\Local\\Programs\\Python\\Python311\\Lib\\site-packages\\urllib3\\connectionpool.py:1095: InsecureRequestWarning: Unverified HTTPS request is being made to host 'api.sportsdata.io'. Adding certificate verification is strongly advised. See: https://urllib3.readthedocs.io/en/latest/advanced-usage.html#tls-warnings\n",
      "  warnings.warn(\n"
     ]
    },
    {
     "name": "stdout",
     "output_type": "stream",
     "text": [
      "<Response [200]>\n"
     ]
    }
   ],
   "source": [
    "nyr_url = \"\"\n",
    "response = re.get(nyr_url, verify=False)https://api.sportsdata.io/v3/nhl/scores/json/PlayersBasic/NYR?key=c0cfac7f35e3438d9d1b060f9d2d7459\n",
    "print(response)\n"
   ]
  },
  {
   "attachments": {},
   "cell_type": "markdown",
   "metadata": {},
   "source": [
    "<h2> Sample API Data"
   ]
  },
  {
   "cell_type": "code",
   "execution_count": 17,
   "metadata": {},
   "outputs": [
    {
     "data": {
      "text/html": [
       "<div>\n",
       "<style scoped>\n",
       "    .dataframe tbody tr th:only-of-type {\n",
       "        vertical-align: middle;\n",
       "    }\n",
       "\n",
       "    .dataframe tbody tr th {\n",
       "        vertical-align: top;\n",
       "    }\n",
       "\n",
       "    .dataframe thead th {\n",
       "        text-align: right;\n",
       "    }\n",
       "</style>\n",
       "<table border=\"1\" class=\"dataframe\">\n",
       "  <thead>\n",
       "    <tr style=\"text-align: right;\">\n",
       "      <th></th>\n",
       "      <th>PlayerID</th>\n",
       "      <th>FirstName</th>\n",
       "      <th>LastName</th>\n",
       "      <th>Status</th>\n",
       "      <th>TeamID</th>\n",
       "      <th>Team</th>\n",
       "      <th>Position</th>\n",
       "      <th>Jersey</th>\n",
       "      <th>Height</th>\n",
       "      <th>Weight</th>\n",
       "      <th>BirthDate</th>\n",
       "      <th>BirthCity</th>\n",
       "      <th>BirthState</th>\n",
       "      <th>GlobalTeamID</th>\n",
       "    </tr>\n",
       "  </thead>\n",
       "  <tbody>\n",
       "    <tr>\n",
       "      <th>0</th>\n",
       "      <td>30000226</td>\n",
       "      <td>Vincent</td>\n",
       "      <td>Trocheck</td>\n",
       "      <td>Active</td>\n",
       "      <td>12</td>\n",
       "      <td>NYR</td>\n",
       "      <td>C</td>\n",
       "      <td>16.0</td>\n",
       "      <td>71.0</td>\n",
       "      <td>184.0</td>\n",
       "      <td>1993-07-11T00:00:00</td>\n",
       "      <td>Pittsburgh</td>\n",
       "      <td>PA</td>\n",
       "      <td>30000012</td>\n",
       "    </tr>\n",
       "    <tr>\n",
       "      <th>1</th>\n",
       "      <td>30000260</td>\n",
       "      <td>Jaroslav</td>\n",
       "      <td>Halak</td>\n",
       "      <td>Active</td>\n",
       "      <td>12</td>\n",
       "      <td>NYR</td>\n",
       "      <td>G</td>\n",
       "      <td>41.0</td>\n",
       "      <td>71.0</td>\n",
       "      <td>189.0</td>\n",
       "      <td>1985-05-13T00:00:00</td>\n",
       "      <td>Bratislava</td>\n",
       "      <td>None</td>\n",
       "      <td>30000012</td>\n",
       "    </tr>\n",
       "    <tr>\n",
       "      <th>2</th>\n",
       "      <td>30000320</td>\n",
       "      <td>Chris</td>\n",
       "      <td>Kreider</td>\n",
       "      <td>Active</td>\n",
       "      <td>12</td>\n",
       "      <td>NYR</td>\n",
       "      <td>LW</td>\n",
       "      <td>20.0</td>\n",
       "      <td>75.0</td>\n",
       "      <td>230.0</td>\n",
       "      <td>1991-04-30T00:00:00</td>\n",
       "      <td>Boxford</td>\n",
       "      <td>MA</td>\n",
       "      <td>30000012</td>\n",
       "    </tr>\n",
       "    <tr>\n",
       "      <th>3</th>\n",
       "      <td>30000467</td>\n",
       "      <td>Mika</td>\n",
       "      <td>Zibanejad</td>\n",
       "      <td>Active</td>\n",
       "      <td>12</td>\n",
       "      <td>NYR</td>\n",
       "      <td>C</td>\n",
       "      <td>93.0</td>\n",
       "      <td>74.0</td>\n",
       "      <td>202.0</td>\n",
       "      <td>1993-04-18T00:00:00</td>\n",
       "      <td>Huddinge</td>\n",
       "      <td>None</td>\n",
       "      <td>30000012</td>\n",
       "    </tr>\n",
       "    <tr>\n",
       "      <th>4</th>\n",
       "      <td>30000478</td>\n",
       "      <td>Ben</td>\n",
       "      <td>Harpur</td>\n",
       "      <td>Active</td>\n",
       "      <td>12</td>\n",
       "      <td>NYR</td>\n",
       "      <td>D</td>\n",
       "      <td>5.0</td>\n",
       "      <td>78.0</td>\n",
       "      <td>231.0</td>\n",
       "      <td>1995-01-12T00:00:00</td>\n",
       "      <td>Hamilton</td>\n",
       "      <td>ON</td>\n",
       "      <td>30000012</td>\n",
       "    </tr>\n",
       "  </tbody>\n",
       "</table>\n",
       "</div>"
      ],
      "text/plain": [
       "   PlayerID FirstName   LastName  Status  TeamID Team Position  Jersey  \\\n",
       "0  30000226   Vincent   Trocheck  Active      12  NYR        C    16.0   \n",
       "1  30000260  Jaroslav      Halak  Active      12  NYR        G    41.0   \n",
       "2  30000320     Chris    Kreider  Active      12  NYR       LW    20.0   \n",
       "3  30000467      Mika  Zibanejad  Active      12  NYR        C    93.0   \n",
       "4  30000478       Ben     Harpur  Active      12  NYR        D     5.0   \n",
       "\n",
       "   Height  Weight            BirthDate   BirthCity BirthState  GlobalTeamID  \n",
       "0    71.0   184.0  1993-07-11T00:00:00  Pittsburgh         PA      30000012  \n",
       "1    71.0   189.0  1985-05-13T00:00:00  Bratislava       None      30000012  \n",
       "2    75.0   230.0  1991-04-30T00:00:00     Boxford         MA      30000012  \n",
       "3    74.0   202.0  1993-04-18T00:00:00    Huddinge       None      30000012  \n",
       "4    78.0   231.0  1995-01-12T00:00:00    Hamilton         ON      30000012  "
      ]
     },
     "execution_count": 17,
     "metadata": {},
     "output_type": "execute_result"
    }
   ],
   "source": [
    "data = response.json()\n",
    "df = pd.DataFrame(data)\n",
    "df.head()"
   ]
  },
  {
   "attachments": {},
   "cell_type": "markdown",
   "metadata": {},
   "source": [
    "<h2> Height and Weight Mean"
   ]
  },
  {
   "cell_type": "code",
   "execution_count": 30,
   "metadata": {},
   "outputs": [
    {
     "data": {
      "text/plain": [
       "Height     73.190476\n",
       "Weight    194.746032\n",
       "dtype: float64"
      ]
     },
     "execution_count": 30,
     "metadata": {},
     "output_type": "execute_result"
    }
   ],
   "source": [
    "mean = df[[\"Height\",\"Weight\"]].mean()\n",
    "mean"
   ]
  },
  {
   "attachments": {},
   "cell_type": "markdown",
   "metadata": {},
   "source": [
    "<h2>Active Player Count"
   ]
  },
  {
   "cell_type": "code",
   "execution_count": 31,
   "metadata": {},
   "outputs": [
    {
     "data": {
      "text/plain": [
       "64"
      ]
     },
     "execution_count": 31,
     "metadata": {},
     "output_type": "execute_result"
    }
   ],
   "source": [
    "Active = df['Status'].count()\n",
    "Active"
   ]
  },
  {
   "attachments": {},
   "cell_type": "markdown",
   "metadata": {},
   "source": [
    "<h2> Query for Patrick Kane ('Kaner')"
   ]
  },
  {
   "cell_type": "code",
   "execution_count": 32,
   "metadata": {},
   "outputs": [
    {
     "data": {
      "text/html": [
       "<div>\n",
       "<style scoped>\n",
       "    .dataframe tbody tr th:only-of-type {\n",
       "        vertical-align: middle;\n",
       "    }\n",
       "\n",
       "    .dataframe tbody tr th {\n",
       "        vertical-align: top;\n",
       "    }\n",
       "\n",
       "    .dataframe thead th {\n",
       "        text-align: right;\n",
       "    }\n",
       "</style>\n",
       "<table border=\"1\" class=\"dataframe\">\n",
       "  <thead>\n",
       "    <tr style=\"text-align: right;\">\n",
       "      <th></th>\n",
       "      <th>PlayerID</th>\n",
       "      <th>FirstName</th>\n",
       "      <th>LastName</th>\n",
       "      <th>Status</th>\n",
       "      <th>TeamID</th>\n",
       "      <th>Team</th>\n",
       "      <th>Position</th>\n",
       "      <th>Jersey</th>\n",
       "      <th>Height</th>\n",
       "      <th>Weight</th>\n",
       "      <th>BirthDate</th>\n",
       "      <th>BirthCity</th>\n",
       "      <th>BirthState</th>\n",
       "      <th>GlobalTeamID</th>\n",
       "    </tr>\n",
       "  </thead>\n",
       "  <tbody>\n",
       "    <tr>\n",
       "      <th>9</th>\n",
       "      <td>30000866</td>\n",
       "      <td>Patrick</td>\n",
       "      <td>Kane</td>\n",
       "      <td>Active</td>\n",
       "      <td>12</td>\n",
       "      <td>NYR</td>\n",
       "      <td>RW</td>\n",
       "      <td>88.0</td>\n",
       "      <td>70.0</td>\n",
       "      <td>177.0</td>\n",
       "      <td>1988-11-19T00:00:00</td>\n",
       "      <td>Buffalo</td>\n",
       "      <td>NY</td>\n",
       "      <td>30000012</td>\n",
       "    </tr>\n",
       "  </tbody>\n",
       "</table>\n",
       "</div>"
      ],
      "text/plain": [
       "   PlayerID FirstName LastName  Status  TeamID Team Position  Jersey  Height  \\\n",
       "9  30000866   Patrick     Kane  Active      12  NYR       RW    88.0    70.0   \n",
       "\n",
       "   Weight            BirthDate BirthCity BirthState  GlobalTeamID  \n",
       "9   177.0  1988-11-19T00:00:00   Buffalo         NY      30000012  "
      ]
     },
     "execution_count": 32,
     "metadata": {},
     "output_type": "execute_result"
    }
   ],
   "source": [
    "Kaner = df.query(\"LastName == 'Kane'\")\n",
    "Kaner"
   ]
  },
  {
   "attachments": {},
   "cell_type": "markdown",
   "metadata": {},
   "source": [
    "<h2> Second and Third Rows of DataFrame"
   ]
  },
  {
   "cell_type": "code",
   "execution_count": 37,
   "metadata": {},
   "outputs": [
    {
     "data": {
      "text/html": [
       "<div>\n",
       "<style scoped>\n",
       "    .dataframe tbody tr th:only-of-type {\n",
       "        vertical-align: middle;\n",
       "    }\n",
       "\n",
       "    .dataframe tbody tr th {\n",
       "        vertical-align: top;\n",
       "    }\n",
       "\n",
       "    .dataframe thead th {\n",
       "        text-align: right;\n",
       "    }\n",
       "</style>\n",
       "<table border=\"1\" class=\"dataframe\">\n",
       "  <thead>\n",
       "    <tr style=\"text-align: right;\">\n",
       "      <th></th>\n",
       "      <th>PlayerID</th>\n",
       "      <th>FirstName</th>\n",
       "      <th>LastName</th>\n",
       "      <th>Status</th>\n",
       "      <th>TeamID</th>\n",
       "      <th>Team</th>\n",
       "      <th>Position</th>\n",
       "      <th>Jersey</th>\n",
       "      <th>Height</th>\n",
       "      <th>Weight</th>\n",
       "      <th>BirthDate</th>\n",
       "      <th>BirthCity</th>\n",
       "      <th>BirthState</th>\n",
       "      <th>GlobalTeamID</th>\n",
       "    </tr>\n",
       "  </thead>\n",
       "  <tbody>\n",
       "    <tr>\n",
       "      <th>2</th>\n",
       "      <td>30000320</td>\n",
       "      <td>Chris</td>\n",
       "      <td>Kreider</td>\n",
       "      <td>Active</td>\n",
       "      <td>12</td>\n",
       "      <td>NYR</td>\n",
       "      <td>LW</td>\n",
       "      <td>20.0</td>\n",
       "      <td>75.0</td>\n",
       "      <td>230.0</td>\n",
       "      <td>1991-04-30T00:00:00</td>\n",
       "      <td>Boxford</td>\n",
       "      <td>MA</td>\n",
       "      <td>30000012</td>\n",
       "    </tr>\n",
       "    <tr>\n",
       "      <th>3</th>\n",
       "      <td>30000467</td>\n",
       "      <td>Mika</td>\n",
       "      <td>Zibanejad</td>\n",
       "      <td>Active</td>\n",
       "      <td>12</td>\n",
       "      <td>NYR</td>\n",
       "      <td>C</td>\n",
       "      <td>93.0</td>\n",
       "      <td>74.0</td>\n",
       "      <td>202.0</td>\n",
       "      <td>1993-04-18T00:00:00</td>\n",
       "      <td>Huddinge</td>\n",
       "      <td>None</td>\n",
       "      <td>30000012</td>\n",
       "    </tr>\n",
       "  </tbody>\n",
       "</table>\n",
       "</div>"
      ],
      "text/plain": [
       "   PlayerID FirstName   LastName  Status  TeamID Team Position  Jersey  \\\n",
       "2  30000320     Chris    Kreider  Active      12  NYR       LW    20.0   \n",
       "3  30000467      Mika  Zibanejad  Active      12  NYR        C    93.0   \n",
       "\n",
       "   Height  Weight            BirthDate BirthCity BirthState  GlobalTeamID  \n",
       "2    75.0   230.0  1991-04-30T00:00:00   Boxford         MA      30000012  \n",
       "3    74.0   202.0  1993-04-18T00:00:00  Huddinge       None      30000012  "
      ]
     },
     "execution_count": 37,
     "metadata": {},
     "output_type": "execute_result"
    }
   ],
   "source": [
    "df.iloc[2:4]"
   ]
  },
  {
   "attachments": {},
   "cell_type": "markdown",
   "metadata": {},
   "source": [
    "<h2> First Four Rows of DataFrame"
   ]
  },
  {
   "cell_type": "code",
   "execution_count": 38,
   "metadata": {},
   "outputs": [
    {
     "data": {
      "text/html": [
       "<div>\n",
       "<style scoped>\n",
       "    .dataframe tbody tr th:only-of-type {\n",
       "        vertical-align: middle;\n",
       "    }\n",
       "\n",
       "    .dataframe tbody tr th {\n",
       "        vertical-align: top;\n",
       "    }\n",
       "\n",
       "    .dataframe thead th {\n",
       "        text-align: right;\n",
       "    }\n",
       "</style>\n",
       "<table border=\"1\" class=\"dataframe\">\n",
       "  <thead>\n",
       "    <tr style=\"text-align: right;\">\n",
       "      <th></th>\n",
       "      <th>PlayerID</th>\n",
       "      <th>FirstName</th>\n",
       "      <th>LastName</th>\n",
       "      <th>Status</th>\n",
       "      <th>TeamID</th>\n",
       "      <th>Team</th>\n",
       "      <th>Position</th>\n",
       "      <th>Jersey</th>\n",
       "      <th>Height</th>\n",
       "      <th>Weight</th>\n",
       "      <th>BirthDate</th>\n",
       "      <th>BirthCity</th>\n",
       "      <th>BirthState</th>\n",
       "      <th>GlobalTeamID</th>\n",
       "    </tr>\n",
       "  </thead>\n",
       "  <tbody>\n",
       "    <tr>\n",
       "      <th>0</th>\n",
       "      <td>30000226</td>\n",
       "      <td>Vincent</td>\n",
       "      <td>Trocheck</td>\n",
       "      <td>Active</td>\n",
       "      <td>12</td>\n",
       "      <td>NYR</td>\n",
       "      <td>C</td>\n",
       "      <td>16.0</td>\n",
       "      <td>71.0</td>\n",
       "      <td>184.0</td>\n",
       "      <td>1993-07-11T00:00:00</td>\n",
       "      <td>Pittsburgh</td>\n",
       "      <td>PA</td>\n",
       "      <td>30000012</td>\n",
       "    </tr>\n",
       "    <tr>\n",
       "      <th>1</th>\n",
       "      <td>30000260</td>\n",
       "      <td>Jaroslav</td>\n",
       "      <td>Halak</td>\n",
       "      <td>Active</td>\n",
       "      <td>12</td>\n",
       "      <td>NYR</td>\n",
       "      <td>G</td>\n",
       "      <td>41.0</td>\n",
       "      <td>71.0</td>\n",
       "      <td>189.0</td>\n",
       "      <td>1985-05-13T00:00:00</td>\n",
       "      <td>Bratislava</td>\n",
       "      <td>None</td>\n",
       "      <td>30000012</td>\n",
       "    </tr>\n",
       "    <tr>\n",
       "      <th>2</th>\n",
       "      <td>30000320</td>\n",
       "      <td>Chris</td>\n",
       "      <td>Kreider</td>\n",
       "      <td>Active</td>\n",
       "      <td>12</td>\n",
       "      <td>NYR</td>\n",
       "      <td>LW</td>\n",
       "      <td>20.0</td>\n",
       "      <td>75.0</td>\n",
       "      <td>230.0</td>\n",
       "      <td>1991-04-30T00:00:00</td>\n",
       "      <td>Boxford</td>\n",
       "      <td>MA</td>\n",
       "      <td>30000012</td>\n",
       "    </tr>\n",
       "    <tr>\n",
       "      <th>3</th>\n",
       "      <td>30000467</td>\n",
       "      <td>Mika</td>\n",
       "      <td>Zibanejad</td>\n",
       "      <td>Active</td>\n",
       "      <td>12</td>\n",
       "      <td>NYR</td>\n",
       "      <td>C</td>\n",
       "      <td>93.0</td>\n",
       "      <td>74.0</td>\n",
       "      <td>202.0</td>\n",
       "      <td>1993-04-18T00:00:00</td>\n",
       "      <td>Huddinge</td>\n",
       "      <td>None</td>\n",
       "      <td>30000012</td>\n",
       "    </tr>\n",
       "  </tbody>\n",
       "</table>\n",
       "</div>"
      ],
      "text/plain": [
       "   PlayerID FirstName   LastName  Status  TeamID Team Position  Jersey  \\\n",
       "0  30000226   Vincent   Trocheck  Active      12  NYR        C    16.0   \n",
       "1  30000260  Jaroslav      Halak  Active      12  NYR        G    41.0   \n",
       "2  30000320     Chris    Kreider  Active      12  NYR       LW    20.0   \n",
       "3  30000467      Mika  Zibanejad  Active      12  NYR        C    93.0   \n",
       "\n",
       "   Height  Weight            BirthDate   BirthCity BirthState  GlobalTeamID  \n",
       "0    71.0   184.0  1993-07-11T00:00:00  Pittsburgh         PA      30000012  \n",
       "1    71.0   189.0  1985-05-13T00:00:00  Bratislava       None      30000012  \n",
       "2    75.0   230.0  1991-04-30T00:00:00     Boxford         MA      30000012  \n",
       "3    74.0   202.0  1993-04-18T00:00:00    Huddinge       None      30000012  "
      ]
     },
     "execution_count": 38,
     "metadata": {},
     "output_type": "execute_result"
    }
   ],
   "source": [
    "first_four = df.head(4)\n",
    "first_four"
   ]
  }
 ],
 "metadata": {
  "kernelspec": {
   "display_name": "Python 3",
   "language": "python",
   "name": "python3"
  },
  "language_info": {
   "codemirror_mode": {
    "name": "ipython",
    "version": 3
   },
   "file_extension": ".py",
   "mimetype": "text/x-python",
   "name": "python",
   "nbconvert_exporter": "python",
   "pygments_lexer": "ipython3",
   "version": "3.11.2"
  },
  "orig_nbformat": 4
 },
 "nbformat": 4,
 "nbformat_minor": 2
}
