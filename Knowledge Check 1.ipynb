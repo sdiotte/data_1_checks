{
 "cells": [
  {
   "cell_type": "code",
   "execution_count": 1,
   "id": "a89e4e58",
   "metadata": {},
   "outputs": [
    {
     "name": "stdout",
     "output_type": "stream",
     "text": [
      "hello world!\n"
     ]
    }
   ],
   "source": [
    "print(\"hello world!\")"
   ]
  },
  {
   "cell_type": "code",
   "execution_count": 2,
   "id": "fad3fd16",
   "metadata": {},
   "outputs": [
    {
     "name": "stdout",
     "output_type": "stream",
     "text": [
      "['Peanut', 'Jesse', 'Sascha', 'Ramon']\n"
     ]
    }
   ],
   "source": [
    "list = ['Peanut', 'Jesse', 'Sascha', 'Ramon']\n",
    "print(list)"
   ]
  },
  {
   "cell_type": "code",
   "execution_count": 3,
   "id": "18f6a55b",
   "metadata": {},
   "outputs": [
    {
     "name": "stdout",
     "output_type": "stream",
     "text": [
      "Ramon\n"
     ]
    }
   ],
   "source": [
    "print(list[3])"
   ]
  },
  {
   "cell_type": "code",
   "execution_count": 4,
   "id": "290f47a0",
   "metadata": {},
   "outputs": [
    {
     "data": {
      "text/plain": [
       "{'Peanut': 8, 'Jesse': 40, 'Sascha': 33, 'Ramon': 39}"
      ]
     },
     "execution_count": 4,
     "metadata": {},
     "output_type": "execute_result"
    }
   ],
   "source": [
    "dictionary = {\n",
    "    'Peanut':8,\n",
    "    'Jesse':40,\n",
    "    'Sascha':33,\n",
    "    'Ramon':39\n",
    "}\n",
    "dictionary"
   ]
  },
  {
   "cell_type": "code",
   "execution_count": 5,
   "id": "dd5b5e52",
   "metadata": {},
   "outputs": [
    {
     "name": "stdout",
     "output_type": "stream",
     "text": [
      "40\n"
     ]
    }
   ],
   "source": [
    "print(dictionary['Jesse'])"
   ]
  },
  {
   "cell_type": "code",
   "execution_count": 6,
   "id": "f4005666",
   "metadata": {},
   "outputs": [
    {
     "data": {
      "text/plain": [
       "('Peanut', 'Jesse', 'Sascha', 'Ramon')"
      ]
     },
     "execution_count": 6,
     "metadata": {},
     "output_type": "execute_result"
    }
   ],
   "source": [
    "mytuple = ('Peanut', 'Jesse', 'Sascha', 'Ramon')\n",
    "mytuple"
   ]
  },
  {
   "cell_type": "code",
   "execution_count": null,
   "id": "c12e4830",
   "metadata": {},
   "outputs": [],
   "source": [
    "print(mytuple[0])"
   ]
  }
 ],
 "metadata": {
  "kernelspec": {
   "display_name": "Python 3 (ipykernel)",
   "language": "python",
   "name": "python3"
  },
  "language_info": {
   "codemirror_mode": {
    "name": "ipython",
    "version": 3
   },
   "file_extension": ".py",
   "mimetype": "text/x-python",
   "name": "python",
   "nbconvert_exporter": "python",
   "pygments_lexer": "ipython3",
   "version": "3.9.13"
  }
 },
 "nbformat": 4,
 "nbformat_minor": 5
}
